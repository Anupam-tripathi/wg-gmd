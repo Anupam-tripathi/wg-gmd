{
 "cells": [
  {
   "cell_type": "markdown",
   "metadata": {},
   "source": [
    "## How to compute Code Commits\n",
    "\n",
    "Clone this repository and change directory to where this notebook resides:\n",
    "\n",
    "```\n",
    "$ git clone https://github.com/chaoss/wg-gmd\n",
    "$ cd wg-gmd/examples\n",
    "```\n",
    "\n",
    "Install perceval and jupyter in a Python3 environment:\n",
    "\n",
    "```\n",
    "$ pip install perceval\n",
    "$ pip install jupyter\n",
    "```\n",
    "\n",
    "Then launch Jupyter from the command line...\n",
    "\n",
    "```\n",
    "$ jupyter notebook\n",
    "```\n",
    "\n",
    "And in the browser, load this notebook. You are ready to go..."
   ]
  },
  {
   "cell_type": "markdown",
   "metadata": {},
   "source": [
    "## Retrieving data from the data source\n",
    "\n",
    "First, run some Perceval code on a repository to produce a file with JSON documents for all its commits, one per line (`git-commits.json`). In this case we will use the Perceval git repository: change it to get data from your preferred repo."
   ]
  },
  {
   "cell_type": "code",
   "execution_count": 98,
   "metadata": {},
   "outputs": [
    {
     "name": "stdout",
     "output_type": "stream",
     "text": [
      "Commits read: 335\n"
     ]
    }
   ],
   "source": [
    "from perceval.backends.core.git import Git\n",
    "\n",
    "# url for the git repo to analyze (uncomment the line you want to analyze)\n",
    "#repo_url = 'http://github.com/chaoss/grimoirelab-perceval'\n",
    "repo_url = 'https://github.com/elastic/elasticsearch-docker'\n",
    "#repo_url = 'https://github.com/git/git.git'\n",
    "# directory for letting Perceval clone the git repo (make sure it is empty)\n",
    "repo_dir = '/tmp/git_repo'\n",
    "\n",
    "# create a Git object, pointing to repo_url, using repo_dir for cloning\n",
    "repo = Git(uri=repo_url, gitpath=repo_dir)\n",
    "\n",
    "number = 0\n",
    "with open('git-commits.json', 'w') as commits_file:\n",
    "    # fetch all commits as an iterator, and dump them to a file, one per line\n",
    "    for commit in repo.fetch():\n",
    "        json.dump(commit, commits_file)\n",
    "        commits_file.write('\\n')\n",
    "        number += 1\n",
    "print(\"Commits read:\", number)"
   ]
  },
  {
   "cell_type": "markdown",
   "metadata": {},
   "source": [
    "Now, let's prepare a dictionary, `commits`, with all commits retrieved,\n",
    "by reading the file we just produced.\n",
    "This will be the one we will use in the computing of the metrics, later.\n",
    "\n",
    "We do it this way, instead of directly producing the dictionary from\n",
    "the output by Perceval, because that allows you, to easily start from the\n",
    "dumped file, if you don't want to run Perceval."
   ]
  },
  {
   "cell_type": "code",
   "execution_count": 99,
   "metadata": {},
   "outputs": [
    {
     "name": "stdout",
     "output_type": "stream",
     "text": [
      "Total number of commits: 335\n"
     ]
    }
   ],
   "source": [
    "commits = {}\n",
    "with open('git-commits.json') as commits_file:\n",
    "    for line in commits_file:\n",
    "        commit = json.loads(line)\n",
    "        commits[commit['data']['commit']] = commit\n",
    "print(\"Total number of commits:\", len(commits))"
   ]
  },
  {
   "cell_type": "markdown",
   "metadata": {},
   "source": [
    "## Computing\n",
    "\n",
    "### Naive version\n",
    "\n",
    "Now, let's compute the metric, the easiest way. Let's read the file we produced from the data source, and just count commits:"
   ]
  },
  {
   "cell_type": "code",
   "execution_count": 100,
   "metadata": {},
   "outputs": [
    {
     "name": "stdout",
     "output_type": "stream",
     "text": [
      "Code Commits (naive): 335\n"
     ]
    }
   ],
   "source": [
    "code_commits = len(commits)\n",
    "print(\"Code Commits (naive):\", code_commits)"
   ]
  },
  {
   "cell_type": "markdown",
   "metadata": {},
   "source": [
    "### Ignoring empty commits\n",
    "\n",
    "Empty commits are those that touch no file (for example, most merge commits). We can find them by looking at the list of files involved in the commit, and checking that all of them have no 'action' field ('action' is for identifying the action performed on the file, such as modification or creation):"
   ]
  },
  {
   "cell_type": "code",
   "execution_count": 101,
   "metadata": {},
   "outputs": [
    {
     "name": "stdout",
     "output_type": "stream",
     "text": [
      "Code Commits (non-empty): 326\n"
     ]
    }
   ],
   "source": [
    "code_commits = 0\n",
    "for commit in commits.values():\n",
    "    for file in commit['data']['files']:\n",
    "        if 'action' in file:\n",
    "            code_commits += 1\n",
    "            break\n",
    "                \n",
    "print(\"Code Commits (non-empty):\", code_commits)"
   ]
  },
  {
   "cell_type": "markdown",
   "metadata": {},
   "source": [
    "### Only non-merge commits\n",
    "\n",
    "Now, instead of filtering out empty commits, let's filter those commits that are merge commits. Those involve no real coding, but merging commits in different branches (for example, after a pull request)."
   ]
  },
  {
   "cell_type": "code",
   "execution_count": 102,
   "metadata": {},
   "outputs": [
    {
     "name": "stdout",
     "output_type": "stream",
     "text": [
      "Code Commits (non-merge): 324\n"
     ]
    }
   ],
   "source": [
    "code_commits = 0\n",
    "for commit in commits.values():\n",
    "    if 'Merge' not in commit['data']:\n",
    "        code_commits += 1\n",
    "                \n",
    "print(\"Code Commits (non-merge):\", code_commits)"
   ]
  },
  {
   "cell_type": "markdown",
   "metadata": {},
   "source": [
    "### Only commits in master\n",
    "\n",
    "In this case, we will consider only commits in the master branch:"
   ]
  },
  {
   "cell_type": "code",
   "execution_count": 103,
   "metadata": {},
   "outputs": [
    {
     "name": "stdout",
     "output_type": "stream",
     "text": [
      "Code Commits (master branch): 245\n"
     ]
    }
   ],
   "source": [
    "# Find commits in master branch.\n",
    "# Start by adding head to an empty todo list. Then loop until todo set is empty:\n",
    "# for each commit in the todo list, add it to the master set, and go backwards\n",
    "# (finding parents), adding them to the todo set.\n",
    "\n",
    "todo = set()\n",
    "for id, commit in commits.items():\n",
    "    if 'HEAD -> refs/heads/master' in commit['data']['refs']:\n",
    "        todo.add(id)\n",
    "\n",
    "master = set()\n",
    "while len(todo) > 0:\n",
    "    current = todo.pop()\n",
    "    master.add(current)\n",
    "    for parent in commits[current]['data']['parents']:\n",
    "        if parent not in master:\n",
    "            todo.add(parent)\n",
    "    \n",
    "code_commits = len(master)\n",
    "    \n",
    "print(\"Code Commits (master branch):\", code_commits)"
   ]
  },
  {
   "cell_type": "markdown",
   "metadata": {},
   "source": [
    "### Only non-empty commits in master\n",
    "\n",
    "Now, let's consider only those non-empty commits that you can find in the master branch. Run the next snippet after running the previous one, so that master has the right collection of commits."
   ]
  },
  {
   "cell_type": "code",
   "execution_count": 104,
   "metadata": {},
   "outputs": [
    {
     "name": "stdout",
     "output_type": "stream",
     "text": [
      "Code Commits (non-empty in master branch): 237\n"
     ]
    }
   ],
   "source": [
    "code_commits = 0\n",
    "for commit_id in master:\n",
    "        commit = commits[commit_id]\n",
    "        for file in commit['data']['files']:\n",
    "            if 'action' in file:\n",
    "                code_commits += 1\n",
    "                break\n",
    "\n",
    "print(\"Code Commits (non-empty in master branch):\", code_commits)"
   ]
  },
  {
   "cell_type": "code",
   "execution_count": null,
   "metadata": {},
   "outputs": [],
   "source": []
  }
 ],
 "metadata": {
  "kernelspec": {
   "display_name": "Python 3",
   "language": "python",
   "name": "python3"
  },
  "language_info": {
   "codemirror_mode": {
    "name": "ipython",
    "version": 3
   },
   "file_extension": ".py",
   "mimetype": "text/x-python",
   "name": "python",
   "nbconvert_exporter": "python",
   "pygments_lexer": "ipython3",
   "version": "3.6.5rc1"
  }
 },
 "nbformat": 4,
 "nbformat_minor": 2
}
